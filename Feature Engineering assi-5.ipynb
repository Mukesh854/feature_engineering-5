{
 "cells": [
  {
   "cell_type": "markdown",
   "id": "8f6f3626-a840-4d72-a75d-ebc5c13984b8",
   "metadata": {},
   "source": [
    "# Feature Engineering Assignment-5"
   ]
  },
  {
   "cell_type": "markdown",
   "id": "1f0ce2a9-7082-4da2-beea-7de5ca06d6cd",
   "metadata": {},
   "source": [
    "Q1. Pearson correlation coefficient is a measure of the linear relationship between two variables. Suppose\n",
    "you have collected data on the amount of time students spend studying for an exam and their final exam\n",
    "scores. Calculate the Pearson correlation coefficient between these two variables and interpret the result."
   ]
  },
  {
   "cell_type": "code",
   "execution_count": 1,
   "id": "526cede9-05cb-4655-a0ac-86782a71693f",
   "metadata": {},
   "outputs": [
    {
     "data": {
      "text/html": [
       "<div>\n",
       "<style scoped>\n",
       "    .dataframe tbody tr th:only-of-type {\n",
       "        vertical-align: middle;\n",
       "    }\n",
       "\n",
       "    .dataframe tbody tr th {\n",
       "        vertical-align: top;\n",
       "    }\n",
       "\n",
       "    .dataframe thead th {\n",
       "        text-align: right;\n",
       "    }\n",
       "</style>\n",
       "<table border=\"1\" class=\"dataframe\">\n",
       "  <thead>\n",
       "    <tr style=\"text-align: right;\">\n",
       "      <th></th>\n",
       "      <th>Amount of time</th>\n",
       "      <th>Final exam scores</th>\n",
       "    </tr>\n",
       "  </thead>\n",
       "  <tbody>\n",
       "    <tr>\n",
       "      <th>Amount of time</th>\n",
       "      <td>1.000000</td>\n",
       "      <td>0.978825</td>\n",
       "    </tr>\n",
       "    <tr>\n",
       "      <th>Final exam scores</th>\n",
       "      <td>0.978825</td>\n",
       "      <td>1.000000</td>\n",
       "    </tr>\n",
       "  </tbody>\n",
       "</table>\n",
       "</div>"
      ],
      "text/plain": [
       "                   Amount of time  Final exam scores\n",
       "Amount of time           1.000000           0.978825\n",
       "Final exam scores        0.978825           1.000000"
      ]
     },
     "execution_count": 1,
     "metadata": {},
     "output_type": "execute_result"
    }
   ],
   "source": [
    "# On the  basis of  given information i am making a sample dataset that contain two variables Amount of time and Final exam scores.\n",
    "\n",
    "data = {\"Amount of time\":[8,7,3,5,9,2.5,6],\n",
    "       \"Final exam scores\":[90,86,45,67,95,30,70]}\n",
    "\n",
    "#here i will convert this data into a dataframe\n",
    "\n",
    "import pandas as pd\n",
    "\n",
    "df = pd.DataFrame(data)\n",
    "\n",
    "\n",
    "df.corr(method =\"pearson\")\n",
    "\n",
    "#If amount of  time will increase then Final exam scores will also  increase"
   ]
  },
  {
   "cell_type": "markdown",
   "id": "fa5b5b75-0463-4383-b285-e23218556fcb",
   "metadata": {},
   "source": [
    "Q2. Spearman's rank correlation is a measure of the monotonic relationship between two variables.\n",
    "Suppose you have collected data on the amount of sleep individuals get each night and their overall job\n",
    "satisfaction level on a scale of 1 to 10. Calculate the Spearman's rank correlation between these two\n",
    "variables and interpret the result."
   ]
  },
  {
   "cell_type": "code",
   "execution_count": 2,
   "id": "30c29526-5b6d-425f-8463-02024a36c1e4",
   "metadata": {},
   "outputs": [
    {
     "name": "stdout",
     "output_type": "stream",
     "text": [
      "Spearman's rank correlation coefficient: 0.6692411652515847\n",
      "p-value: 0.06950698090503384\n"
     ]
    }
   ],
   "source": [
    "# So in this situation where we have these two variables amount of sleep and job satisfaction.To calculate the spearman's rank correlation we first need to rank both variables\n",
    "#for that i am using scipy library\n",
    "\n",
    "from scipy.stats import spearmanr\n",
    "\n",
    "#here i  will sample data\n",
    "\n",
    "data = {\"Amount of sleep\":[8,7,8,6,9,7,8,8],\n",
    "       \"Job satisfaction\":[9,8,8,7,10,8,7,9]}\n",
    "\n",
    "df = pd.DataFrame(data)\n",
    "\n",
    "rho, p_value = spearmanr(df[[\"Amount of sleep\", \"Job satisfaction\"]])\n",
    "\n",
    "print(\"Spearman's rank correlation coefficient:\", rho)\n",
    "print(\"p-value:\", p_value)"
   ]
  },
  {
   "cell_type": "markdown",
   "id": "3f608cdd-c1fc-4c61-95b8-5f259ee50fb6",
   "metadata": {},
   "source": [
    "Q3. Suppose you are conducting a study to examine the relationship between the number of hours of\n",
    "exercise per week and body mass index (BMI) in a sample of adults. You collected data on both variables\n",
    "for 50 participants. Calculate the Pearson correlation coefficient and the Spearman's rank correlation\n",
    "between these two variables and compare the results."
   ]
  },
  {
   "cell_type": "code",
   "execution_count": 3,
   "id": "832c8aab-9a88-4030-8ae3-1ed0cc5bb9e9",
   "metadata": {},
   "outputs": [
    {
     "name": "stdout",
     "output_type": "stream",
     "text": [
      "Pearson correlation cofficient:                    hours_of_exercise       bmi\n",
      "hours_of_exercise           1.000000 -0.646824\n",
      "bmi                        -0.646824  1.000000\n",
      "Spearman's rank correalation: SpearmanrResult(correlation=-0.6382207175869471, pvalue=6.16330813421653e-07)\n"
     ]
    }
   ],
   "source": [
    "# let's import  some libraries\n",
    "\n",
    "from scipy.stats import spearmanr\n",
    "import pandas as pd\n",
    "\n",
    "df = {\"hours_of_exercise\" :[3, 5, 2, 7, 4, 6, 3, 2, 5, 1, 4, 6, 2, 4, 3, 5, 7, 2, 1, 6,\n",
    "                     3, 4, 5, 2, 6, 7, 3, 4, 5, 2, 6, 1, 4, 5, 3, 2, 6, 7, 4, 5,\n",
    "                     3, 2, 6, 4, 5, 3, 2, 7, 4, 5],\n",
    " \"bmi\" : [25, 27, 30, 22, 29, 26, 28, 31, 24, 32, 26, 23, 29, 27, 28, 25, 22, 30, 31, 27,\n",
    "       28, 26, 24, 29, 21, 23, 25, 28, 26, 27, 22, 30, 29, 28, 26, 24, 23, 27, 28, 26,\n",
    "       29, 31, 23, 25, 27, 29, 22, 28, 26, 24]}\n",
    "\n",
    "df = pd.DataFrame(df)\n",
    "\n",
    "#let's calulate pearson correlation\n",
    "\n",
    "pearson = df.corr(method=\"pearson\")\n",
    "\n",
    "#let's calculate spaerman's rank correlation\n",
    "\n",
    "spearman = spearmanr(df[[\"hours_of_exercise\",\"bmi\"]])\n",
    "\n",
    "\n",
    "print(f\"Pearson correlation cofficient: {pearson}\")\n",
    "\n",
    "print(f\"Spearman's rank correalation: {spearman}\")"
   ]
  },
  {
   "cell_type": "markdown",
   "id": "721be57a-b963-4986-a80c-eed6ae89a876",
   "metadata": {},
   "source": [
    "Q4. A researcher is interested in examining the relationship between the number of hours individuals\n",
    "spend watching television per day and their level of physical activity. The researcher collected data on\n",
    "both variables from a sample of 50 participants. Calculate the Pearson correlation coefficient between\n",
    "these two variables."
   ]
  },
  {
   "cell_type": "code",
   "execution_count": 4,
   "id": "7831775b-457e-4f75-b753-67bfefb4420b",
   "metadata": {},
   "outputs": [
    {
     "data": {
      "text/html": [
       "<div>\n",
       "<style scoped>\n",
       "    .dataframe tbody tr th:only-of-type {\n",
       "        vertical-align: middle;\n",
       "    }\n",
       "\n",
       "    .dataframe tbody tr th {\n",
       "        vertical-align: top;\n",
       "    }\n",
       "\n",
       "    .dataframe thead th {\n",
       "        text-align: right;\n",
       "    }\n",
       "</style>\n",
       "<table border=\"1\" class=\"dataframe\">\n",
       "  <thead>\n",
       "    <tr style=\"text-align: right;\">\n",
       "      <th></th>\n",
       "      <th>hours_watching_tv</th>\n",
       "      <th>physical_activity_level</th>\n",
       "    </tr>\n",
       "  </thead>\n",
       "  <tbody>\n",
       "    <tr>\n",
       "      <th>hours_watching_tv</th>\n",
       "      <td>1.000000</td>\n",
       "      <td>0.040676</td>\n",
       "    </tr>\n",
       "    <tr>\n",
       "      <th>physical_activity_level</th>\n",
       "      <td>0.040676</td>\n",
       "      <td>1.000000</td>\n",
       "    </tr>\n",
       "  </tbody>\n",
       "</table>\n",
       "</div>"
      ],
      "text/plain": [
       "                         hours_watching_tv  physical_activity_level\n",
       "hours_watching_tv                 1.000000                 0.040676\n",
       "physical_activity_level           0.040676                 1.000000"
      ]
     },
     "execution_count": 4,
     "metadata": {},
     "output_type": "execute_result"
    }
   ],
   "source": [
    "df = {\"hours_watching_tv\" : [3, 2, 4, 5, 1, 3, 2, 4, 5, 2, 3, 1, 4, 5, 2, 3, 4, 1, 5, 2,\n",
    "                     4, 3, 1, 5, 2, 4, 3, 1, 5, 2, 4, 3, 5, 1, 2, 4, 3, 5, 2, 4,\n",
    "                     3, 1, 5, 2, 4, 3, 1, 5, 2, 4, 3],\n",
    "     \"physical_activity_level\" : [2, 3, 1, 4, 2, 3, 1, 4, 2, 3, 1, 4, 2, 3, 1, 4, 2, 3, 1, 4,\n",
    "                           2, 3, 1, 4, 2, 3, 1, 4, 2, 3, 1, 4, 2, 3, 1, 4, 2, 3, 1, 4,\n",
    "                           2, 3, 1, 4, 2, 3, 1, 4, 2, 3, 1]}\n",
    "\n",
    "df = pd.DataFrame(df)\n",
    "\n",
    "pearson = df.corr(method = \"pearson\")\n",
    "\n",
    "pearson"
   ]
  },
  {
   "cell_type": "markdown",
   "id": "f7014c5f-5c7a-4ebe-b7f6-cc0f695d31d5",
   "metadata": {},
   "source": [
    "Q5. A survey was conducted to examine the relationship between age and preference for a particular\n",
    "brand of soft drink. The survey results are shown below:"
   ]
  },
  {
   "cell_type": "code",
   "execution_count": 6,
   "id": "04f53959-7889-492c-8e56-272aea90fc84",
   "metadata": {},
   "outputs": [
    {
     "data": {
      "text/html": [
       "<div>\n",
       "<style scoped>\n",
       "    .dataframe tbody tr th:only-of-type {\n",
       "        vertical-align: middle;\n",
       "    }\n",
       "\n",
       "    .dataframe tbody tr th {\n",
       "        vertical-align: top;\n",
       "    }\n",
       "\n",
       "    .dataframe thead th {\n",
       "        text-align: right;\n",
       "    }\n",
       "</style>\n",
       "<table border=\"1\" class=\"dataframe\">\n",
       "  <thead>\n",
       "    <tr style=\"text-align: right;\">\n",
       "      <th></th>\n",
       "      <th>Age</th>\n",
       "      <th>Soft drink preference</th>\n",
       "    </tr>\n",
       "  </thead>\n",
       "  <tbody>\n",
       "    <tr>\n",
       "      <th>Age</th>\n",
       "      <td>1.000000</td>\n",
       "      <td>0.758704</td>\n",
       "    </tr>\n",
       "    <tr>\n",
       "      <th>Soft drink preference</th>\n",
       "      <td>0.758704</td>\n",
       "      <td>1.000000</td>\n",
       "    </tr>\n",
       "  </tbody>\n",
       "</table>\n",
       "</div>"
      ],
      "text/plain": [
       "                            Age  Soft drink preference\n",
       "Age                    1.000000               0.758704\n",
       "Soft drink preference  0.758704               1.000000"
      ]
     },
     "execution_count": 6,
     "metadata": {},
     "output_type": "execute_result"
    }
   ],
   "source": [
    "data = {\"Age\":[25,42,37,19,31,28],\n",
    "       \"Soft drink Preference\":[\"coke\",\"pepsi\",\"mountain dew\",\"coke\",\"pepsi\",\"coke\"]}\n",
    "\n",
    "df = pd.DataFrame(data)\n",
    "\n",
    "#here i converted them into a numerical  values...\n",
    "\n",
    "df[\"Soft drink preference\"] = df[\"Soft drink Preference\"].map({\"coke\":1,\"pepsi\":2,\"mountain dew\":3})\n",
    "\n",
    "df = df.drop(\"Soft drink Preference\" , axis=1)\n",
    "\n",
    "df\n",
    "\n",
    "pearson = df.corr(method=\"pearson\")\n",
    "\n",
    "pearson"
   ]
  },
  {
   "cell_type": "markdown",
   "id": "b8d2b569-1831-4649-9390-7f091716997b",
   "metadata": {},
   "source": [
    "Q6. A company is interested in examining the relationship between the number of sales calls made per day\n",
    "and the number of sales made per week. The company collected data on both variables from a sample of\n",
    "30 sales representatives. Calculate the Pearson correlation coefficient between these two variables."
   ]
  },
  {
   "cell_type": "code",
   "execution_count": 14,
   "id": "1cb2d05d-9d8c-48f9-9531-ff113e826ea9",
   "metadata": {},
   "outputs": [
    {
     "data": {
      "text/html": [
       "<div>\n",
       "<style scoped>\n",
       "    .dataframe tbody tr th:only-of-type {\n",
       "        vertical-align: middle;\n",
       "    }\n",
       "\n",
       "    .dataframe tbody tr th {\n",
       "        vertical-align: top;\n",
       "    }\n",
       "\n",
       "    .dataframe thead th {\n",
       "        text-align: right;\n",
       "    }\n",
       "</style>\n",
       "<table border=\"1\" class=\"dataframe\">\n",
       "  <thead>\n",
       "    <tr style=\"text-align: right;\">\n",
       "      <th></th>\n",
       "      <th>Sales calls per day</th>\n",
       "      <th>Sales made per week</th>\n",
       "    </tr>\n",
       "  </thead>\n",
       "  <tbody>\n",
       "    <tr>\n",
       "      <th>Sales calls per day</th>\n",
       "      <td>1.000000</td>\n",
       "      <td>0.932643</td>\n",
       "    </tr>\n",
       "    <tr>\n",
       "      <th>Sales made per week</th>\n",
       "      <td>0.932643</td>\n",
       "      <td>1.000000</td>\n",
       "    </tr>\n",
       "  </tbody>\n",
       "</table>\n",
       "</div>"
      ],
      "text/plain": [
       "                     Sales calls per day  Sales made per week\n",
       "Sales calls per day             1.000000             0.932643\n",
       "Sales made per week             0.932643             1.000000"
      ]
     },
     "execution_count": 14,
     "metadata": {},
     "output_type": "execute_result"
    }
   ],
   "source": [
    "#okey from the above information i will create a sample  dataset in  which i have a two variables number of  sales calls made per day and number of sales made per week.\n",
    "\n",
    "data = {\"Sales calls  per day\":[100,78,90,99,88,56,110,120,90,67,34,78,96,99,67,76,65,56,120,123,98,65,97,34,32,78,90,76,45,150,56],\n",
    "       \"Sales made per week\":[40,28,45,46,45,23,67,78,56,45,12,45,56,65,45,34,33,22,78,79,65,45,54,12,10,50,67,45,23,110,12]}\n",
    "\n",
    "import pandas as pd\n",
    "\n",
    "df = pd.DataFrame(data)\n",
    "\n",
    "pearson= df.corr(method=\"pearson\")\n",
    "\n",
    "pearson"
   ]
  },
  {
   "cell_type": "code",
   "execution_count": null,
   "id": "f1faa9da-7d5e-4fbc-b7f1-8a8341ae3272",
   "metadata": {},
   "outputs": [],
   "source": []
  }
 ],
 "metadata": {
  "kernelspec": {
   "display_name": "Python 3 (ipykernel)",
   "language": "python",
   "name": "python3"
  },
  "language_info": {
   "codemirror_mode": {
    "name": "ipython",
    "version": 3
   },
   "file_extension": ".py",
   "mimetype": "text/x-python",
   "name": "python",
   "nbconvert_exporter": "python",
   "pygments_lexer": "ipython3",
   "version": "3.10.8"
  }
 },
 "nbformat": 4,
 "nbformat_minor": 5
}
